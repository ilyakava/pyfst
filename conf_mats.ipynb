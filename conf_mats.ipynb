{
 "cells": [
  {
   "cell_type": "code",
   "execution_count": 1,
   "metadata": {},
   "outputs": [
    {
     "data": {
      "text/plain": [
       "'\\nThis notebook is for making full classification plots.\\n'"
      ]
     },
     "execution_count": 1,
     "metadata": {},
     "output_type": "execute_result"
    }
   ],
   "source": [
    "\"\"\"\n",
    "This notebook is for making full classification plots.\n",
    "\"\"\""
   ]
  },
  {
   "cell_type": "code",
   "execution_count": 1,
   "metadata": {},
   "outputs": [],
   "source": [
    "import numpy as np\n",
    "\n",
    "import os\n",
    "import scipy.io as sio\n",
    "import imageio\n"
   ]
  },
  {
   "cell_type": "code",
   "execution_count": 2,
   "metadata": {},
   "outputs": [
    {
     "name": "stderr",
     "output_type": "stream",
     "text": [
      "/scratch0/ilya/locDoc/miniconda2/envs/venvtf/lib/python2.7/site-packages/h5py/__init__.py:36: FutureWarning: Conversion of the second argument of issubdtype from `float` to `np.floating` is deprecated. In future, it will be treated as `np.float64 == np.dtype(float).type`.\n",
      "  from ._conv import register_converters as _register_converters\n"
     ]
    }
   ],
   "source": [
    "import hsi_data"
   ]
  },
  {
   "cell_type": "code",
   "execution_count": 3,
   "metadata": {},
   "outputs": [],
   "source": [
    "from sklearn.metrics import confusion_matrix, cohen_kappa_score, f1_score, accuracy_score"
   ]
  },
  {
   "cell_type": "code",
   "execution_count": 16,
   "metadata": {},
   "outputs": [],
   "source": [
    "from itertools import product"
   ]
  },
  {
   "cell_type": "code",
   "execution_count": 4,
   "metadata": {},
   "outputs": [],
   "source": [
    "%matplotlib ipympl\n",
    "\n",
    "import matplotlib.pyplot as plt\n",
    "import matplotlib.image as mpimg\n",
    "import ipympl"
   ]
  },
  {
   "cell_type": "code",
   "execution_count": 5,
   "metadata": {},
   "outputs": [],
   "source": [
    "plt.style.use('ggplot')"
   ]
  },
  {
   "cell_type": "code",
   "execution_count": 6,
   "metadata": {},
   "outputs": [],
   "source": [
    "pavia_class_map = [[192, 192, 192], [41, 253, 47], [45, 255, 253], [14, 126, 18], [250, 40, 251], [162, 81, 43], [126, 11, 123], [247, 9, 27], [254, 253, 56] ]\n",
    "botswana_class_map = [[77, 104, 255], [118, 149, 226], [237, 243, 57], [171, 153, 58], [236, 185, 46], [218, 2, 0], [124, 47, 225], [231, 254, 226], [105, 2, 0], [222, 217, 251], [248, 245, 139], [234, 179, 193], [175, 102, 41], [245, 245, 245]]\n",
    "ksc_class_map = [[136, 203, 71], [218, 0, 249], [192, 114, 27], [151, 34, 2], [31, 54, 5], [64, 0, 0], [255, 255, 255], [139, 132, 131], [255, 254, 174], [240, 196, 86], [122, 199, 251], [38, 65, 119], [1, 2, 248]]\n",
    "ip_class_map = [[98, 203, 178], [252, 40, 247], [212, 113, 29], [175, 31, 16], [22, 133, 250], [68, 1, 2], [254, 254, 254], [143, 133, 132], [255, 253, 175], [254, 196, 91], [66, 199, 45], [18, 90, 124], [7, 36, 249], [40, 220, 240], [160, 93, 150], [120, 40, 230]]"
   ]
  },
  {
   "cell_type": "code",
   "execution_count": 7,
   "metadata": {},
   "outputs": [],
   "source": [
    "def apply_colormap(img, class_map):\n",
    "    \"\"\"\n",
    "    class_map: list< list< int >( 3 ) >\n",
    "        maps classes to colors\n",
    "    \"\"\"\n",
    "    h, w = img.shape\n",
    "    new_img = np.zeros((h*w,3))\n",
    "    for i, p in enumerate(img.flatten()):\n",
    "        if p == -1:\n",
    "            new_img[i] = [0,0,0]\n",
    "        else:\n",
    "            new_img[i] = class_map[p]\n",
    "    new_img = new_img / 255.\n",
    "    return new_img.reshape((h,w,3))\n",
    "        "
   ]
  },
  {
   "cell_type": "code",
   "execution_count": 228,
   "metadata": {},
   "outputs": [],
   "source": [
    "dataset = 'IP'\n",
    "pred_fst = np.load('/scratch1/ilya/locDoc/pyfst/june_models/ip_dist_fst/IP_distributed_trainval_p0500_4_695632_pred.npz')['pred_image']\n",
    "mask_path = '/cfarhomes/ilyak/ilyakavalerov@gmail.com/ramawks69/pyfst/masks/IP_distributed_trainval_p0500_4_695632.mat'\n",
    "save_name = 'IP_cm.png'"
   ]
  },
  {
   "cell_type": "code",
   "execution_count": 237,
   "metadata": {},
   "outputs": [],
   "source": [
    "dataset = 'PaviaU'\n",
    "pred_fst = np.load('/scratch1/ilya/locDoc/pyfst/june_models/paviau_dist_fst/PaviaU_distributed_trainval_s10_7_759773_pred.npz')['pred_image']\n",
    "mask_path = '/cfarhomes/ilyak/ilyakavalerov@gmail.com/ramawks69/pyfst/masks/PaviaU_distributed_trainval_s10_7_759773.mat'\n",
    "save_name = 'PaviaU_cm.png'"
   ]
  },
  {
   "cell_type": "code",
   "execution_count": 246,
   "metadata": {},
   "outputs": [],
   "source": [
    "dataset = 'KSC'\n",
    "pred_fst = np.load('/scratch1/ilya/locDoc/pyfst/june_models/ksc_dist_fst/KSC_distributed_trainval_s20_8_029188_pred.npz')['pred_image']\n",
    "mask_path = '/cfarhomes/ilyak/ilyakavalerov@gmail.com/ramawks69/pyfst/masks/KSC_distributed_trainval_s20_8_029188.mat'\n",
    "save_name = 'KSC_cm.png'"
   ]
  },
  {
   "cell_type": "code",
   "execution_count": 255,
   "metadata": {},
   "outputs": [],
   "source": [
    "dataset = 'Botswana'\n",
    "pred_fst = np.load('/scratch1/ilya/locDoc/pyfst/june_models/bots_dist_fst/Botswana_distributed_trainval_s10_5_552529_pred.npz')['pred_image']\n",
    "mask_path = '/cfarhomes/ilyak/ilyakavalerov@gmail.com/ramawks69/pyfst/masks/Botswana_distributed_trainval_s10_5_552529.mat'\n",
    "save_name = 'Botswana_cm.png'"
   ]
  },
  {
   "cell_type": "code",
   "execution_count": null,
   "metadata": {},
   "outputs": [],
   "source": []
  },
  {
   "cell_type": "code",
   "execution_count": 264,
   "metadata": {},
   "outputs": [],
   "source": [
    "dataset = 'IP'\n",
    "pred_fst = np.load('/scratch0/ilya/locDoc/pyfst/models/dffn/IP_distributed_trainval_p0500_8_250034/0/Indian_pines_gt_DFFN_3tower_4depth.npz')['pred_image']\n",
    "mask_path = '/cfarhomes/ilyak/ilyakavalerov@gmail.com/ramawks69/pyfst/masks/IP_distributed_trainval_p0500_8_250034.mat'\n",
    "save_name = 'IP_cm_comp.png'"
   ]
  },
  {
   "cell_type": "code",
   "execution_count": 273,
   "metadata": {},
   "outputs": [],
   "source": [
    "dataset = 'PaviaU'\n",
    "pred_fst = np.load('/scratch0/ilya/locDoc/pyfst/models/pu_tang_svm/PaviaU_distributed_trainval_s10_7_759773_pred.npz')['pred_image']\n",
    "mask_path = '/cfarhomes/ilyak/ilyakavalerov@gmail.com/ramawks69/pyfst/masks/PaviaU_distributed_trainval_s10_7_759773.mat'\n",
    "save_name = 'PaviaU_cm_comp.png'"
   ]
  },
  {
   "cell_type": "code",
   "execution_count": 282,
   "metadata": {},
   "outputs": [],
   "source": [
    "dataset = 'KSC'\n",
    "pred_fst = np.load('/scratch1/ilya/locDoc/pyfst/june_models/KSC_wst/KSC_distributed_trainval_s20_9_760600_pred.npz')['pred_image']\n",
    "mask_path = '/cfarhomes/ilyak/ilyakavalerov@gmail.com/ramawks69/pyfst/masks/KSC_distributed_trainval_s20_9_760600.mat'\n",
    "save_name = 'KSC_cm_comp.png'"
   ]
  },
  {
   "cell_type": "code",
   "execution_count": 291,
   "metadata": {},
   "outputs": [],
   "source": [
    "dataset = 'Botswana'\n",
    "pred_fst = np.load('/scratch1/ilya/locDoc/pyfst/june_models/bots_dist_gabor/Botswana_distributed_trainval_s10_8_992993_pred.npz')['pred_image']\n",
    "mask_path = '/cfarhomes/ilyak/ilyakavalerov@gmail.com/ramawks69/pyfst/masks/Botswana_distributed_trainval_s10_8_992993.mat'\n",
    "save_name = 'Botswana_cm_comp.png'"
   ]
  },
  {
   "cell_type": "code",
   "execution_count": 292,
   "metadata": {},
   "outputs": [],
   "source": [
    "\n",
    "trainimgname, trainlabelname = hsi_data.dset_filenames_dict[dataset]\n",
    "trainimgfield, trainlabelfield = hsi_data.dset_fieldnames_dict[dataset]\n",
    "gt = hsi_data.load_labels(trainlabelname, trainlabelfield).astype(int)-1"
   ]
  },
  {
   "cell_type": "code",
   "execution_count": 293,
   "metadata": {},
   "outputs": [],
   "source": [
    "\n",
    "test_mask = hsi_data.multiversion_matfile_get_field(mask_path, 'test_mask')\n",
    "test_mask_im = test_mask.reshape(hsi_data.dset_dims[trainimgname][:2][::-1]).T\n",
    "train_mask = hsi_data.multiversion_matfile_get_field(mask_path, 'train_mask')\n",
    "train_mask_im = train_mask.reshape(hsi_data.dset_dims[trainimgname][:2][::-1]).T"
   ]
  },
  {
   "cell_type": "code",
   "execution_count": 294,
   "metadata": {},
   "outputs": [
    {
     "data": {
      "text/plain": [
       "99"
      ]
     },
     "execution_count": 294,
     "metadata": {},
     "output_type": "execute_result"
    }
   ],
   "source": [
    "((gt != pred_fst)*test_mask_im).sum()"
   ]
  },
  {
   "cell_type": "code",
   "execution_count": 295,
   "metadata": {},
   "outputs": [
    {
     "data": {
      "text/plain": [
       "0.9716863919181085"
      ]
     },
     "execution_count": 295,
     "metadata": {},
     "output_type": "execute_result"
    }
   ],
   "source": [
    "C = confusion_matrix(gt[test_mask_im == 1], pred_fst[test_mask_im == 1]).astype(float)\n",
    "# C /= C.sum(axis=1, keepdims=True)\n",
    "per_class = np.diag(C) / C.sum(axis=1)\n",
    "np.mean(per_class)"
   ]
  },
  {
   "cell_type": "code",
   "execution_count": 296,
   "metadata": {},
   "outputs": [],
   "source": [
    "cm = C\n",
    "cmap = 'binary'"
   ]
  },
  {
   "cell_type": "code",
   "execution_count": 297,
   "metadata": {},
   "outputs": [],
   "source": [
    "def plot_cm(cm):\n",
    "    # https://github.com/scikit-learn/scikit-learn/blob/fd237278e/sklearn/metrics/_plot/confusion_matrix.py#L135\n",
    "    cmap = 'binary'\n",
    "    fig, ax = plt.subplots()\n",
    "    n_classes = cm.shape[0]\n",
    "    # cm for image    \n",
    "    no_diag_cm = np.log10(1+cm)\n",
    "    cm_max = no_diag_cm.max()\n",
    "    cm_min = no_diag_cm.min()\n",
    "    \n",
    "    im_ = ax.imshow(no_diag_cm, interpolation='nearest', cmap=cmap)\n",
    "    cmap_min, cmap_max = im_.cmap(0), im_.cmap(256)\n",
    "    text_ = np.empty_like(cm, dtype=object)\n",
    "    \n",
    "    thresh = 10**((cm_max - cm_min) / 2.0) - 1\n",
    "    values_format = None # \n",
    "    xticks_rotation = 'horizontal'\n",
    "\n",
    "    for i, j in product(range(n_classes), range(n_classes)):\n",
    "        color = cmap_max if cm[i, j] < thresh else cmap_min\n",
    "\n",
    "        if values_format is None:\n",
    "            cm_value = cm[i,j]\n",
    "            if cm_value > 99:\n",
    "                color = 'yellow'\n",
    "                cm_value = round(float(cm_value) / sum(cm[i,:]),2)\n",
    "                text_cm = format(cm_value, '.2g')\n",
    "                if cm_value == 1.0:\n",
    "                    text_cm = '1.'\n",
    "                else:\n",
    "                    text_cm = text_cm[1:]\n",
    "            else:\n",
    "                text_cm = format(cm_value, '.2g')\n",
    "            if cm.dtype.kind != 'f':\n",
    "                text_d = format(cm_value, 'd')\n",
    "                if len(text_d) < len(text_cm):\n",
    "                    text_cm = text_d\n",
    "        else:\n",
    "            text_cm = format(cm[i, j], values_format)\n",
    "\n",
    "        text_[i, j] = ax.text(\n",
    "            j, i, text_cm,\n",
    "            ha=\"center\", va=\"center\",\n",
    "            color=color)\n",
    "    class_sizes = cm.sum(axis=1)\n",
    "    display_labels = np.arange(n_classes)+1\n",
    "    display_labels_y = ['(%i) %i' % (ksz,ki) for ksz,ki in zip(class_sizes, display_labels)]\n",
    "    cbar_ticks = np.linspace(no_diag_cm.min(), no_diag_cm.max(), 8)\n",
    "    cbar = fig.colorbar(im_, ax=ax, ticks=cbar_ticks)\n",
    "    cbar_tick_labs = (10**cbar_ticks).astype(int)-1\n",
    "    cbar.ax.set_yticklabels(cbar_tick_labs)\n",
    "    ax.set(xticks=np.arange(n_classes),\n",
    "           yticks=np.arange(n_classes),\n",
    "           xticklabels=display_labels,\n",
    "           yticklabels=display_labels_y,\n",
    "           ylabel=\"True label\",\n",
    "           xlabel=\"Predicted label\")\n",
    "\n",
    "    ax.set_ylim((n_classes - 0.5, -0.5))\n",
    "    ax.grid(False)\n",
    "    plt.setp(ax.get_xticklabels(), rotation=xticks_rotation);"
   ]
  },
  {
   "cell_type": "code",
   "execution_count": 298,
   "metadata": {},
   "outputs": [
    {
     "data": {
      "application/vnd.jupyter.widget-view+json": {
       "model_id": "87cd1587450f4a1b826bead0183c9607",
       "version_major": 2,
       "version_minor": 0
      },
      "text/html": [
       "<p>Failed to display Jupyter Widget of type <code>FigureCanvasNbAgg</code>.</p>\n",
       "<p>\n",
       "  If you're reading this message in the Jupyter Notebook or JupyterLab Notebook, it may mean\n",
       "  that the widgets JavaScript is still loading. If this message persists, it\n",
       "  likely means that the widgets JavaScript library is either not installed or\n",
       "  not enabled. See the <a href=\"https://ipywidgets.readthedocs.io/en/stable/user_install.html\">Jupyter\n",
       "  Widgets Documentation</a> for setup instructions.\n",
       "</p>\n",
       "<p>\n",
       "  If you're reading this message in another frontend (for example, a static\n",
       "  rendering on GitHub or <a href=\"https://nbviewer.jupyter.org/\">NBViewer</a>),\n",
       "  it may mean that your frontend doesn't currently support widgets.\n",
       "</p>\n"
      ],
      "text/plain": [
       "FigureCanvasNbAgg()"
      ]
     },
     "metadata": {},
     "output_type": "display_data"
    }
   ],
   "source": [
    "plot_cm(C)"
   ]
  },
  {
   "cell_type": "code",
   "execution_count": 299,
   "metadata": {},
   "outputs": [],
   "source": [
    "plt.savefig('/scratch0/ilya/locDownloads/temp/tgrs_grids/' + save_name, dpi=600)"
   ]
  },
  {
   "cell_type": "code",
   "execution_count": null,
   "metadata": {},
   "outputs": [],
   "source": []
  }
 ],
 "metadata": {
  "kernelspec": {
   "display_name": "Python 2",
   "language": "python",
   "name": "python2"
  },
  "language_info": {
   "codemirror_mode": {
    "name": "ipython",
    "version": 2
   },
   "file_extension": ".py",
   "mimetype": "text/x-python",
   "name": "python",
   "nbconvert_exporter": "python",
   "pygments_lexer": "ipython2",
   "version": "2.7.17"
  }
 },
 "nbformat": 4,
 "nbformat_minor": 2
}
