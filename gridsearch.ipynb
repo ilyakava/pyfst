{
 "cells": [
  {
   "cell_type": "code",
   "execution_count": null,
   "metadata": {},
   "outputs": [],
   "source": [
    "\"\"\"Plots gridsearch figures.\n",
    "\"\"\""
   ]
  },
  {
   "cell_type": "code",
   "execution_count": 1,
   "metadata": {},
   "outputs": [],
   "source": [
    "import numpy as np\n",
    "\n",
    "import os\n",
    "\n"
   ]
  },
  {
   "cell_type": "code",
   "execution_count": 2,
   "metadata": {},
   "outputs": [],
   "source": [
    "from mpl_toolkits.mplot3d import Axes3D\n",
    "import matplotlib.pyplot as plt\n",
    "from matplotlib import cm\n",
    "from matplotlib.ticker import LinearLocator, FormatStrFormatter\n",
    "import numpy as np"
   ]
  },
  {
   "cell_type": "code",
   "execution_count": 3,
   "metadata": {},
   "outputs": [
    {
     "name": "stderr",
     "output_type": "stream",
     "text": [
      "/scratch0/ilya/locDoc/miniconda2/envs/venvtf/lib/python2.7/site-packages/h5py/__init__.py:36: FutureWarning: Conversion of the second argument of issubdtype from `float` to `np.floating` is deprecated. In future, it will be treated as `np.float64 == np.dtype(float).type`.\n",
      "  from ._conv import register_converters as _register_converters\n"
     ]
    }
   ],
   "source": [
    "import hsi_data as hsinn"
   ]
  },
  {
   "cell_type": "code",
   "execution_count": 4,
   "metadata": {},
   "outputs": [],
   "source": [
    "%matplotlib ipympl\n",
    "\n",
    "import matplotlib.pyplot as plt\n",
    "import matplotlib.image as mpimg\n",
    "import ipympl"
   ]
  },
  {
   "cell_type": "code",
   "execution_count": 5,
   "metadata": {},
   "outputs": [],
   "source": [
    "def str_to_spatial_spectral_receptive_field_size(s):\n",
    "    \"\"\"\n",
    "    Coming in in (b,h,w)\n",
    "    \"\"\"\n",
    "    filters = s.split('_')\n",
    "    filters = [f.split('-') for f in filters]\n",
    "    filters = [[int(n) for n in f] for f in filters]\n",
    "    psi1, psi2, phi = filters\n",
    "    b1,h1,_ = psi1\n",
    "    b2,h2,_ = psi2\n",
    "    b3,h3,_ = phi\n",
    "    # return (h1+h2+h3+2, b1+b2+b3+2)\n",
    "    # multiply by 3 in spectral bc there is downsampling there\n",
    "    return (h1+h2+h3-2, b1*3+b2*3+b3*3-2)"
   ]
  },
  {
   "cell_type": "code",
   "execution_count": 464,
   "metadata": {},
   "outputs": [],
   "source": [
    "def results_to_grid(result_dict):\n",
    "\n",
    "    winds = set()\n",
    "    bands = set()\n",
    "    best_acc = 0\n",
    "    for k, v in result_dict.iteritems():\n",
    "        w, b = str_to_spatial_spectral_receptive_field_size(k)\n",
    "        winds.add(w)\n",
    "        bands.add(b)\n",
    "        best_acc = max(best_acc, sum(v) / float(len(v)))\n",
    "    winds = sorted(list(winds))\n",
    "    bands = sorted(list(bands))\n",
    "    Z = np.zeros((len(winds), len(bands)))\n",
    "#     Z[:,:] = np.nan\n",
    "    \n",
    "    for k, v in result_dict.iteritems():\n",
    "        w, b = str_to_spatial_spectral_receptive_field_size(k)\n",
    "        i = winds.index(w)\n",
    "        j = bands.index(b)\n",
    "        acc = sum(v) / float(len(v))\n",
    "        if acc == best_acc:\n",
    "            print('Best acc (%.1f) is for: %s' % (best_acc * 100, k) )\n",
    "            params = [list(reversed(a.split('-'))) for a in k.split('_')]\n",
    "            print( '$%s$' % ','.join(['\\\\times'.join(trip) for trip in params]) )\n",
    "        if Z[i,j] != 0:\n",
    "            print('Conflict: %s' % k)\n",
    "        if Z[i,j] < acc:\n",
    "            Z[i,j] = acc\n",
    "        \n",
    "    X, Y = np.meshgrid(np.array(bands),winds)\n",
    "    \n",
    "    return X, Y, Z"
   ]
  },
  {
   "cell_type": "code",
   "execution_count": 7,
   "metadata": {},
   "outputs": [],
   "source": [
    "def tap2wavelength(M, dataset):\n",
    "    \"\"\"Converts tap lengths to nm for a dataset's spectral axis.\n",
    "    \"\"\"\n",
    "    return M*hsinn.bandwidth_dict[dataset]\n",
    "\n",
    "def tap2meters(M, dataset):\n",
    "    \"\"\"Converts tap lengths to meters for a dataset's spatial axis.\n",
    "    \"\"\"\n",
    "    return M*hsinn.spatial_res_dict[dataset] \n",
    "\n"
   ]
  },
  {
   "cell_type": "code",
   "execution_count": 510,
   "metadata": {},
   "outputs": [],
   "source": [
    "### distributed\n",
    "npz_name = '/scratch0/ilya/locDoc/pyfst/gridsearch_june19b_IP_distributed_p10_10trials.npz'\n",
    "npz_name = '/scratch0/ilya/locDoc/pyfst/gridsearch_june19_paviaU_distributed_p0200_10trials.npz'\n",
    "# # # # # npz_name = '/scratch0/ilya/locDoc/pyfst/gridsearch_june19_KSC_distributed_s50_10trials.npz' # too high accuracy\n",
    "npz_name = '/scratch0/ilya/locDoc/pyfst/gridsearch_june19_KSC_distributed_s20_10trials.npz'\n",
    "npz_name = '/scratch0/ilya/locDoc/pyfst/gridsearch_june19_Bots_distributed_s20_10trials.npz'\n",
    "\n",
    "\n",
    "### sss\n",
    "npz_name = '/scratch0/ilya/locDoc/pyfst/gridsearch_june19_Bots_singlesite_s20_10trials.npz'\n",
    "# npz_name = '/scratch0/ilya/locDoc/pyfst/gridsearch_june19_IP_strictsinglesite_s20_10trials.npz' # NO, actually is p10 SSS\n",
    "# npz_name = '/scratch0/ilya/locDoc/pyfst/gridsearch_june19_KSC_strictsinglesite_s50_10trials.npz'\n",
    "# npz_name = '/scratch0/ilya/locDoc/pyfst/gridsearch_june19_paviaU_strictsingle_site_s90_10trials.npz'\n",
    "\n",
    "# npz_name = '/scratch0/ilya/locDoc/pyfst/gridsearch_june19_IP_strictsinglesite_s20REALLY_10trials.npz'\n",
    "\n",
    "# npz_name = '/scratch0/ilya/locDoc/pyfst/gridsearch_june_KSC_strictsinglesite_s50_10trials.npz'\n",
    "# npz_name = '/scratch0/ilya/locDoc/pyfst/gridsearch_june18_IP_strictsinglesite_s20_10trials.npz'\n",
    "# npz_name = '/scratch0/ilya/locDoc/pyfst/gridsearch_june_IP_strictsinglesite_s20_10trials.npz'\n",
    "# npz_name = '/scratch0/ilya/locDoc/pyfst/gridsearch_june_paviaU_strictsingle_site_s90_10trials.npz'\n",
    "# npz_name = '/scratch0/ilya/locDoc/pyfst/gridsearch_Bots_singlesite_s20_10trials.npz'\n",
    "\n",
    "\n",
    "# npz_name = '/scratch0/ilya/locDoc/pyfst/gridsearch_KSC_strictsinglesite_s50_10trials.npz'\n",
    "# npz_name = '/scratch0/ilya/locDoc/pyfst/gridsearch_KSC_strictsinglesite_s20_10trials.npz'\n",
    "# npz_name = '/scratch0/ilya/locDoc/pyfst/gridsearch_IP_strictsinglesite_s20_10trials.npz'\n",
    "# npz_name = '/scratch0/ilya/locDoc/pyfst/gridsearch_Bots_singlesite_s20_10trials.npz'\n",
    "#npz_name = '/scratch0/ilya/locDoc/pyfst/gridsearch_paviaU_strictsingle_site_s20_10trials.npz'\n",
    "# npz_name = '/scratch0/ilya/locDoc/pyfst/gridsearch_paviaU_strictsingle_site_s90_10trials.npz'\n",
    "#npz_name = '/scratch0/ilya/locDoc/pyfst/gridsearch_paviaU_strictsingle_site_s50_10trials.npz'\n"
   ]
  },
  {
   "cell_type": "code",
   "execution_count": 511,
   "metadata": {},
   "outputs": [],
   "source": [
    "results = np.load(npz_name, allow_pickle=True)['results'].item()"
   ]
  },
  {
   "cell_type": "code",
   "execution_count": 512,
   "metadata": {},
   "outputs": [
    {
     "name": "stdout",
     "output_type": "stream",
     "text": [
      "Conflict: 3-3-3_3-3-3_3-3-3\n",
      "Best acc (85.8) is for: 3-5-5_3-5-5_3-5-5\n",
      "$5\\times5\\times3,5\\times5\\times3,5\\times5\\times3$\n",
      "Conflict: 9-7-7_9-1-1_9-1-1\n",
      "Conflict: 7-7-7_7-1-1_7-1-1\n",
      "Conflict: 5-3-3_5-3-3_5-3-3\n"
     ]
    }
   ],
   "source": [
    "X, Y, Z = results_to_grid(results)\n",
    "# dataset = 'KSC'\n",
    "dataset = 'Botswana'"
   ]
  },
  {
   "cell_type": "code",
   "execution_count": 513,
   "metadata": {},
   "outputs": [],
   "source": [
    "# chosen_result = '5-9-9_5-9-9_5-9-9'\n",
    "#chosen_result = '7-7-7_7-7-7_7-7-7'\n",
    "# chosen_result = '9-7-7_9-3-3_9-3-3'\n",
    "#chosen_result = '9-9-9_9-9-9_9-9-9'\n",
    "# print(np.array(results[chosen_result]).std())\n",
    "# np.argmin( np.abs((np.array(results[chosen_result]) - np.array(results[chosen_result]).mean())) )"
   ]
  },
  {
   "cell_type": "code",
   "execution_count": 514,
   "metadata": {},
   "outputs": [
    {
     "name": "stdout",
     "output_type": "stream",
     "text": [
      "which has a receptive field of 390 m by 216 nm (13 spatial samples by 25 spectral samples)\n"
     ]
    }
   ],
   "source": [
    "bi, bj = [Z.argmax() // Z.shape[1], Z.argmax() % Z.shape[1]]\n",
    "next_string = '(%i spatial samples by %i spectral samples)' % (Y[bi,bj], X[bi,bj])\n",
    "X = tap2wavelength(X, dataset)\n",
    "Y = tap2meters(Y, dataset)\n",
    "bi, bj = [Z.argmax() // Z.shape[1], Z.argmax() % Z.shape[1]]\n",
    "print('which has a receptive field of %i m by %i nm %s' % (Y[bi,bj], X[bi,bj], next_string))"
   ]
  },
  {
   "cell_type": "code",
   "execution_count": 436,
   "metadata": {},
   "outputs": [],
   "source": [
    "plt.close('all')"
   ]
  },
  {
   "cell_type": "code",
   "execution_count": 437,
   "metadata": {},
   "outputs": [
    {
     "data": {
      "application/vnd.jupyter.widget-view+json": {
       "model_id": "0f634d6c51af46819e9ea0d29f724596",
       "version_major": 2,
       "version_minor": 0
      },
      "text/html": [
       "<p>Failed to display Jupyter Widget of type <code>FigureCanvasNbAgg</code>.</p>\n",
       "<p>\n",
       "  If you're reading this message in the Jupyter Notebook or JupyterLab Notebook, it may mean\n",
       "  that the widgets JavaScript is still loading. If this message persists, it\n",
       "  likely means that the widgets JavaScript library is either not installed or\n",
       "  not enabled. See the <a href=\"https://ipywidgets.readthedocs.io/en/stable/user_install.html\">Jupyter\n",
       "  Widgets Documentation</a> for setup instructions.\n",
       "</p>\n",
       "<p>\n",
       "  If you're reading this message in another frontend (for example, a static\n",
       "  rendering on GitHub or <a href=\"https://nbviewer.jupyter.org/\">NBViewer</a>),\n",
       "  it may mean that your frontend doesn't currently support widgets.\n",
       "</p>\n"
      ],
      "text/plain": [
       "FigureCanvasNbAgg()"
      ]
     },
     "metadata": {},
     "output_type": "display_data"
    }
   ],
   "source": [
    "fig = plt.figure()\n",
    "ax = fig.gca(projection='3d')\n",
    "\n",
    "real_Z = [z for z in Z.flatten() if not np.isnan(z)]\n",
    "\n",
    "# Plot the surface.\n",
    "# surf = ax.plot_surface(X, Y, Z, cmap=cm.coolwarm, linewidth=0, antialiased=False, vmin=min(real_Z), vmax=max(real_Z))\n",
    "\n",
    "# Plot the wireframe\n",
    "norm = plt.Normalize(Z.min(), Z.max())\n",
    "colors = cm.coolwarm(norm(Z))\n",
    "rcount, ccount, _ = colors.shape\n",
    "surf = ax.plot_surface(X, Y, Z, rcount=rcount, ccount=ccount,\n",
    "                       facecolors=colors, shade=False, linewidth=4)\n",
    "surf.set_facecolor((0,0,0,0))\n",
    "\n",
    "# Customize the z axis.\n",
    "\n",
    "ax.set_zlim(min(real_Z), max(real_Z))\n",
    "ax.zaxis.set_major_locator(LinearLocator(10))\n",
    "ax.zaxis.set_major_formatter(FormatStrFormatter('%.02f'))\n",
    "ax.set_xlabel('Spectral Receptive Field (nm)')\n",
    "ax.set_ylabel('Spatial Receptive Field (m)')\n",
    "ax.set_zlabel('Accuracy')\n",
    "\n",
    "ax.scatter(X[bi,bj], Y[bi,bj], Z[bi,bj], s=400, marker='*', color='black')\n",
    "\n",
    "# set initial view\n",
    "# ax.view_init(elev=30, azim=-8)\n",
    "ax.view_init(elev=25, azim=8)\n",
    "\n",
    "# Add a color bar which maps values to colors.\n",
    "#fig.colorbar(surf, shrink=0.5, aspect=5)"
   ]
  },
  {
   "cell_type": "code",
   "execution_count": null,
   "metadata": {},
   "outputs": [],
   "source": []
  }
 ],
 "metadata": {
  "kernelspec": {
   "display_name": "Python 2",
   "language": "python",
   "name": "python2"
  },
  "language_info": {
   "codemirror_mode": {
    "name": "ipython",
    "version": 2
   },
   "file_extension": ".py",
   "mimetype": "text/x-python",
   "name": "python",
   "nbconvert_exporter": "python",
   "pygments_lexer": "ipython2",
   "version": "2.7.17"
  }
 },
 "nbformat": 4,
 "nbformat_minor": 2
}
