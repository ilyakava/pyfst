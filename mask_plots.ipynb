{
 "cells": [
  {
   "cell_type": "code",
   "execution_count": null,
   "metadata": {},
   "outputs": [],
   "source": [
    "\"\"\"Plots ground truth and does 1KNN interpolation.\n",
    "\"\"\""
   ]
  },
  {
   "cell_type": "code",
   "execution_count": 1,
   "metadata": {},
   "outputs": [
    {
     "name": "stderr",
     "output_type": "stream",
     "text": [
      "/scratch0/ilya/locDoc/miniconda2/envs/venvtf/lib/python2.7/site-packages/h5py/__init__.py:36: FutureWarning: Conversion of the second argument of issubdtype from `float` to `np.floating` is deprecated. In future, it will be treated as `np.float64 == np.dtype(float).type`.\n",
      "  from ._conv import register_converters as _register_converters\n"
     ]
    }
   ],
   "source": [
    "import sites_train_val_split as lib\n",
    "import hsi_data"
   ]
  },
  {
   "cell_type": "code",
   "execution_count": 2,
   "metadata": {},
   "outputs": [],
   "source": [
    "import numpy as np"
   ]
  },
  {
   "cell_type": "code",
   "execution_count": 3,
   "metadata": {},
   "outputs": [],
   "source": [
    "%matplotlib ipympl\n",
    "\n",
    "import matplotlib.pyplot as plt\n",
    "import matplotlib.image as mpimg\n",
    "import ipympl"
   ]
  },
  {
   "cell_type": "code",
   "execution_count": 4,
   "metadata": {},
   "outputs": [],
   "source": [
    "def apply_colormap(img, class_map):\n",
    "    \"\"\"\n",
    "    class_map: list< list< int >( 3 ) >\n",
    "        maps classes to colors\n",
    "    \"\"\"\n",
    "    h, w = img.shape\n",
    "    new_img = np.zeros((h*w,3))\n",
    "    for i, p in enumerate(img.flatten()):\n",
    "        if p == -1:\n",
    "            new_img[i] = [0,0,0]\n",
    "        else:\n",
    "            new_img[i] = class_map[p]\n",
    "    new_img = new_img / 255.\n",
    "    return new_img.reshape((h,w,3))\n",
    "        "
   ]
  },
  {
   "cell_type": "code",
   "execution_count": null,
   "metadata": {},
   "outputs": [],
   "source": [
    "pavia_class_map = [[192, 192, 192], [41, 253, 47], [45, 255, 253], [14, 126, 18], [250, 40, 251], [162, 81, 43], [126, 11, 123], [247, 9, 27], [254, 253, 56] ]"
   ]
  },
  {
   "cell_type": "code",
   "execution_count": null,
   "metadata": {},
   "outputs": [],
   "source": [
    "dataset = 'PaviaU'\n"
   ]
  },
  {
   "cell_type": "code",
   "execution_count": null,
   "metadata": {},
   "outputs": [],
   "source": [
    "trainimgname, trainlabelname = hsi_data.dset_filenames_dict[dataset]\n",
    "trainimgfield, trainlabelfield = hsi_data.dset_fieldnames_dict[dataset]\n",
    "labels = hsi_data.load_labels(trainlabelname, trainlabelfield)\n",
    "\n",
    "h,w,b = hsi_data.dset_dims[trainimgname]\n",
    "nclass = hsi_data.nclass_dict[dataset]\n",
    "\n",
    "class_to_components = lib.get_labeled_sites(labels)"
   ]
  },
  {
   "cell_type": "code",
   "execution_count": null,
   "metadata": {},
   "outputs": [],
   "source": [
    "\n",
    "plt.figure()\n",
    "test_mask_im = np.zeros(hsi_data.dset_dims['KSC_corrected.mat'][:2])\n",
    "\n",
    "for compi, comp in enumerate(class_to_components[6]):\n",
    "    for i, j in comp:\n",
    "        test_mask_im[i,j]=compi+1\n",
    "\n",
    "plt.imshow(test_mask_im)"
   ]
  },
  {
   "cell_type": "code",
   "execution_count": null,
   "metadata": {},
   "outputs": [],
   "source": [
    "len(class_to_components[7])"
   ]
  },
  {
   "cell_type": "code",
   "execution_count": null,
   "metadata": {},
   "outputs": [],
   "source": [
    "plt.figure()\n",
    "test_mask_im = np.zeros(hsi_data.dset_dims['KSC_corrected.mat'][:2])\n",
    "\n",
    "comp = [(210, 589), (210, 590), (211, 588), (211, 589), (211, 590), (210, 591), (210, 592), (210, 593), (214, 584), (215, 584), (214, 583), (215, 583), (216, 583), (216, 584), (217, 591), (217, 592), (217, 593), (217, 594), (217, 595), (218, 587), (218, 588), (218, 589), (218, 590), (218, 591), (218, 592), (218, 593), (218, 594), (218, 595), (219, 589), (219, 590), (219, 591), (219, 592), (219, 593), (219, 594), (220, 590), (220, 591), (220, 592), (220, 593)]\n",
    "for i, j in comp:\n",
    "    test_mask_im[i,j]=compi+1\n",
    "\n",
    "plt.imshow(test_mask_im)"
   ]
  },
  {
   "cell_type": "code",
   "execution_count": null,
   "metadata": {},
   "outputs": [],
   "source": [
    "labels.shape"
   ]
  },
  {
   "cell_type": "code",
   "execution_count": null,
   "metadata": {},
   "outputs": [],
   "source": [
    "mask_path = '/scratch0/ilya/locDoc/data/hyperspec/KSC_strictsinglesite_trainval_s50_9_307364.mat'\n",
    "train_mask = hsi_data.multiversion_matfile_get_field(mask_path, 'train_mask')\n",
    "train_mask_im = train_mask.reshape(hsi_data.dset_dims['KSC_corrected.mat'][:2][::-1]).T"
   ]
  },
  {
   "cell_type": "code",
   "execution_count": null,
   "metadata": {},
   "outputs": [],
   "source": [
    "mask_path = '/scratch0/ilya/locDoc/data/hyperspec/PaviaU_strictsinglesite_trainval_s90_9_484519.mat'\n",
    "# mask_path = '/cfarhomes/ilyak/ilyakavalerov@gmail.com/ramawks69/pyfst/masks/PaviaU_distributed_trainval_p0200_0_112681.mat'\n",
    "train_mask = hsi_data.multiversion_matfile_get_field(mask_path, 'train_mask')\n",
    "train_mask_im = train_mask.reshape(hsi_data.dset_dims['PaviaU.mat'][:2][::-1]).T"
   ]
  },
  {
   "cell_type": "code",
   "execution_count": null,
   "metadata": {},
   "outputs": [],
   "source": [
    "mask_path = '/cfarhomes/ilyak/ilyakavalerov@gmail.com/ramawks69/pyfst/masks/IP_distributed_trainval_s10_0_492018.mat'\n",
    "train_mask = hsi_data.multiversion_matfile_get_field(mask_path, 'train_mask')\n",
    "train_mask_im = train_mask.reshape(hsi_data.dset_dims['Indian_pines_corrected.mat'][:2][::-1]).T"
   ]
  },
  {
   "cell_type": "code",
   "execution_count": null,
   "metadata": {},
   "outputs": [],
   "source": [
    "mask_path = '/cfarhomes/ilyak/ilyakavalerov@gmail.com/ramawks69/pyfst/masks/Botswana_strictsinglesite_trainval_s05_7_647323.mat'\n",
    "train_mask = hsi_data.multiversion_matfile_get_field(mask_path, 'train_mask')\n",
    "train_mask_im = train_mask.reshape(hsi_data.dset_dims['Botswana.mat'][:2][::-1]).T"
   ]
  },
  {
   "cell_type": "code",
   "execution_count": null,
   "metadata": {},
   "outputs": [],
   "source": [
    "pav_im = (labels * train_mask_im).astype(int)-1"
   ]
  },
  {
   "cell_type": "code",
   "execution_count": null,
   "metadata": {},
   "outputs": [],
   "source": [
    "fig = plt.figure()\n",
    "ax = plt.Axes(fig, [0., 0., 1., 1.])\n",
    "ax.set_axis_off()\n",
    "fig.add_axes(ax)\n",
    "# ax.imshow(apply_colormap(pav_im, pavia_class_map))\n",
    "# ax.imshow(apply_colormap(img_pred-1, pavia_class_map))\n",
    "ax.imshow(apply_colormap(labels.astype(int)-1, pavia_class_map))"
   ]
  },
  {
   "cell_type": "code",
   "execution_count": null,
   "metadata": {},
   "outputs": [],
   "source": [
    "plt.close('all')"
   ]
  },
  {
   "cell_type": "code",
   "execution_count": 30,
   "metadata": {},
   "outputs": [],
   "source": [
    "from sklearn.neighbors import KNeighborsClassifier\n",
    "import os"
   ]
  },
  {
   "cell_type": "code",
   "execution_count": 22,
   "metadata": {},
   "outputs": [],
   "source": [
    "def KNN1_acc(mask_path, dataset_fname):\n",
    "    train_mask = hsi_data.multiversion_matfile_get_field(mask_path, 'train_mask')\n",
    "    train_mask_im = train_mask.reshape(hsi_data.dset_dims[dataset_fname][:2][::-1]).T\n",
    "    \n",
    "    trainX = []\n",
    "    trainY = []\n",
    "    testX = []\n",
    "    testY = []\n",
    "    wholeImg = []\n",
    "    for i in range(labels.shape[0]):\n",
    "        for j in range(labels.shape[1]):\n",
    "            if train_mask_im[i,j]:\n",
    "                trainX.append([i,j])\n",
    "                trainY.append(labels[i,j])\n",
    "            elif int(labels[i,j]):\n",
    "                testX.append([i,j])\n",
    "                testY.append(labels[i,j])\n",
    "            wholeImg.append([i,j])\n",
    "    \n",
    "    classifier = KNeighborsClassifier(n_neighbors=1, metric='euclidean')\n",
    "    classifier.fit(trainX, trainY)\n",
    "    \n",
    "    y_pred_ = classifier.predict(testX)\n",
    "    acc = (np.array(testY) == np.array(y_pred_)).sum() / float(len(testY))\n",
    "    \n",
    "    return acc"
   ]
  },
  {
   "cell_type": "code",
   "execution_count": 57,
   "metadata": {},
   "outputs": [],
   "source": [
    "dataset = 'IP'\n",
    "dataset_fname = hsi_data.dset_filenames_dict[dataset][0]"
   ]
  },
  {
   "cell_type": "code",
   "execution_count": 58,
   "metadata": {},
   "outputs": [],
   "source": [
    "trainimgname, trainlabelname = hsi_data.dset_filenames_dict[dataset]\n",
    "trainimgfield, trainlabelfield = hsi_data.dset_fieldnames_dict[dataset]\n",
    "labels = hsi_data.load_labels(trainlabelname, trainlabelfield)"
   ]
  },
  {
   "cell_type": "code",
   "execution_count": 59,
   "metadata": {},
   "outputs": [],
   "source": [
    "masks = ['IP_distributed_trainval_s05_0_068302.mat',\n",
    "'IP_distributed_trainval_s05_1_522314.mat',\n",
    "'IP_distributed_trainval_s05_2_844964.mat',\n",
    "'IP_distributed_trainval_s05_3_857674.mat',\n",
    "'IP_distributed_trainval_s05_4_387762.mat',\n",
    "'IP_distributed_trainval_s05_5_659002.mat',\n",
    "'IP_distributed_trainval_s05_6_551080.mat',\n",
    "'IP_distributed_trainval_s05_7_529916.mat',\n",
    "'IP_distributed_trainval_s05_8_101290.mat',\n",
    "'IP_distributed_trainval_s05_9_746592.mat']\n",
    "masks = [os.path.join('/cfarhomes/ilyak/ilyakavalerov@gmail.com/ramawks69/pyfst/masks/', m) for m in masks]"
   ]
  },
  {
   "cell_type": "code",
   "execution_count": 60,
   "metadata": {},
   "outputs": [
    {
     "name": "stdout",
     "output_type": "stream",
     "text": [
      "0.6847 +/- 0.0134\n"
     ]
    }
   ],
   "source": [
    "accs = []\n",
    "for mask_path in masks:\n",
    "    accs.append(KNN1_acc(mask_path, dataset_fname))\n",
    "accs = np.array(accs)\n",
    "print('%.4f +/- %.4f' % (accs.mean(), accs.std()))"
   ]
  },
  {
   "cell_type": "code",
   "execution_count": 16,
   "metadata": {},
   "outputs": [],
   "source": []
  },
  {
   "cell_type": "code",
   "execution_count": 17,
   "metadata": {},
   "outputs": [
    {
     "data": {
      "text/plain": [
       "KNeighborsClassifier(algorithm='auto', leaf_size=30, metric='euclidean',\n",
       "           metric_params=None, n_jobs=1, n_neighbors=1, p=2,\n",
       "           weights='uniform')"
      ]
     },
     "execution_count": 17,
     "metadata": {},
     "output_type": "execute_result"
    }
   ],
   "source": [
    "classifier = KNeighborsClassifier(n_neighbors=1, metric='euclidean')\n",
    "classifier.fit(trainX, trainY)"
   ]
  },
  {
   "cell_type": "code",
   "execution_count": 18,
   "metadata": {},
   "outputs": [],
   "source": [
    "y_pred = classifier.predict(wholeImg)"
   ]
  },
  {
   "cell_type": "code",
   "execution_count": 19,
   "metadata": {},
   "outputs": [
    {
     "data": {
      "text/plain": [
       "0.49089134677944046"
      ]
     },
     "execution_count": 19,
     "metadata": {},
     "output_type": "execute_result"
    }
   ],
   "source": [
    "y_pred_ = classifier.predict(testX)\n",
    "(np.array(testY) == np.array(y_pred_)).sum() / float(len(testY))"
   ]
  },
  {
   "cell_type": "code",
   "execution_count": null,
   "metadata": {},
   "outputs": [],
   "source": [
    "img_pred = np.array(y_pred).reshape(hsi_data.dset_dims['PaviaU.mat'][:2])"
   ]
  },
  {
   "cell_type": "code",
   "execution_count": null,
   "metadata": {},
   "outputs": [],
   "source": [
    "len(testY)"
   ]
  },
  {
   "cell_type": "code",
   "execution_count": null,
   "metadata": {},
   "outputs": [],
   "source": []
  }
 ],
 "metadata": {
  "kernelspec": {
   "display_name": "Python 2",
   "language": "python",
   "name": "python2"
  },
  "language_info": {
   "codemirror_mode": {
    "name": "ipython",
    "version": 2
   },
   "file_extension": ".py",
   "mimetype": "text/x-python",
   "name": "python",
   "nbconvert_exporter": "python",
   "pygments_lexer": "ipython2",
   "version": "2.7.17"
  }
 },
 "nbformat": 4,
 "nbformat_minor": 2
}
