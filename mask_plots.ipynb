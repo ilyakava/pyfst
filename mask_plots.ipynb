{
 "cells": [
  {
   "cell_type": "code",
   "execution_count": 1,
   "metadata": {},
   "outputs": [
    {
     "data": {
      "text/plain": [
       "'Plots ground truth and does 1KNN interpolation.\\n'"
      ]
     },
     "execution_count": 1,
     "metadata": {},
     "output_type": "execute_result"
    }
   ],
   "source": [
    "\"\"\"Plots ground truth and does 1KNN interpolation.\n",
    "\"\"\""
   ]
  },
  {
   "cell_type": "code",
   "execution_count": 2,
   "metadata": {},
   "outputs": [
    {
     "name": "stderr",
     "output_type": "stream",
     "text": [
      "/scratch0/ilya/locDoc/miniconda2/envs/venvtf/lib/python2.7/site-packages/h5py/__init__.py:36: FutureWarning: Conversion of the second argument of issubdtype from `float` to `np.floating` is deprecated. In future, it will be treated as `np.float64 == np.dtype(float).type`.\n",
      "  from ._conv import register_converters as _register_converters\n"
     ]
    }
   ],
   "source": [
    "import sites_train_val_split as lib\n",
    "import hsi_data"
   ]
  },
  {
   "cell_type": "code",
   "execution_count": 3,
   "metadata": {},
   "outputs": [],
   "source": [
    "import numpy as np\n",
    "import imageio"
   ]
  },
  {
   "cell_type": "code",
   "execution_count": 4,
   "metadata": {},
   "outputs": [],
   "source": [
    "%matplotlib ipympl\n",
    "\n",
    "import matplotlib.pyplot as plt\n",
    "import matplotlib.image as mpimg\n",
    "import ipympl"
   ]
  },
  {
   "cell_type": "code",
   "execution_count": 5,
   "metadata": {},
   "outputs": [],
   "source": [
    "def apply_colormap(img, class_map):\n",
    "    \"\"\"\n",
    "    class_map: list< list< int >( 3 ) >\n",
    "        maps classes to colors\n",
    "    \"\"\"\n",
    "    h, w = img.shape\n",
    "    new_img = np.zeros((h*w,3))\n",
    "    for i, p in enumerate(img.flatten()):\n",
    "        if p == -1:\n",
    "            new_img[i] = [0,0,0]\n",
    "        else:\n",
    "            new_img[i] = class_map[p]\n",
    "    new_img = new_img / 255.\n",
    "    return new_img.reshape((h,w,3))\n",
    "        "
   ]
  },
  {
   "cell_type": "code",
   "execution_count": 6,
   "metadata": {},
   "outputs": [],
   "source": [
    "pavia_class_map = [[192, 192, 192], [41, 253, 47], [45, 255, 253], [14, 126, 18], [250, 40, 251], [162, 81, 43], [126, 11, 123], [247, 9, 27], [254, 253, 56] ]"
   ]
  },
  {
   "cell_type": "code",
   "execution_count": 7,
   "metadata": {},
   "outputs": [],
   "source": [
    "dataset = 'PaviaU'\n"
   ]
  },
  {
   "cell_type": "code",
   "execution_count": 8,
   "metadata": {},
   "outputs": [],
   "source": [
    "trainimgname, trainlabelname = hsi_data.dset_filenames_dict[dataset]\n",
    "trainimgfield, trainlabelfield = hsi_data.dset_fieldnames_dict[dataset]\n",
    "labels = hsi_data.load_labels(trainlabelname, trainlabelfield)\n",
    "\n",
    "h,w,b = hsi_data.dset_dims[trainimgname]\n",
    "nclass = hsi_data.nclass_dict[dataset]\n",
    "\n",
    "class_to_components = lib.get_labeled_sites(labels)"
   ]
  },
  {
   "cell_type": "code",
   "execution_count": 9,
   "metadata": {},
   "outputs": [
    {
     "data": {
      "application/vnd.jupyter.widget-view+json": {
       "model_id": "a0256b138d8b40cfa4dcbef462c38439",
       "version_major": 2,
       "version_minor": 0
      },
      "text/html": [
       "<p>Failed to display Jupyter Widget of type <code>FigureCanvasNbAgg</code>.</p>\n",
       "<p>\n",
       "  If you're reading this message in the Jupyter Notebook or JupyterLab Notebook, it may mean\n",
       "  that the widgets JavaScript is still loading. If this message persists, it\n",
       "  likely means that the widgets JavaScript library is either not installed or\n",
       "  not enabled. See the <a href=\"https://ipywidgets.readthedocs.io/en/stable/user_install.html\">Jupyter\n",
       "  Widgets Documentation</a> for setup instructions.\n",
       "</p>\n",
       "<p>\n",
       "  If you're reading this message in another frontend (for example, a static\n",
       "  rendering on GitHub or <a href=\"https://nbviewer.jupyter.org/\">NBViewer</a>),\n",
       "  it may mean that your frontend doesn't currently support widgets.\n",
       "</p>\n"
      ],
      "text/plain": [
       "FigureCanvasNbAgg()"
      ]
     },
     "metadata": {},
     "output_type": "display_data"
    },
    {
     "data": {
      "text/plain": [
       "<matplotlib.image.AxesImage at 0x7f78e93ade90>"
      ]
     },
     "execution_count": 9,
     "metadata": {},
     "output_type": "execute_result"
    }
   ],
   "source": [
    "\n",
    "plt.figure()\n",
    "test_mask_im = np.zeros(hsi_data.dset_dims['KSC_corrected.mat'][:2])\n",
    "\n",
    "for compi, comp in enumerate(class_to_components[6]):\n",
    "    for i, j in comp:\n",
    "        test_mask_im[i,j]=compi+1\n",
    "\n",
    "plt.imshow(test_mask_im)"
   ]
  },
  {
   "cell_type": "code",
   "execution_count": null,
   "metadata": {},
   "outputs": [],
   "source": [
    "len(class_to_components[7])"
   ]
  },
  {
   "cell_type": "code",
   "execution_count": null,
   "metadata": {},
   "outputs": [],
   "source": [
    "plt.figure()\n",
    "test_mask_im = np.zeros(hsi_data.dset_dims['KSC_corrected.mat'][:2])\n",
    "\n",
    "comp = [(210, 589), (210, 590), (211, 588), (211, 589), (211, 590), (210, 591), (210, 592), (210, 593), (214, 584), (215, 584), (214, 583), (215, 583), (216, 583), (216, 584), (217, 591), (217, 592), (217, 593), (217, 594), (217, 595), (218, 587), (218, 588), (218, 589), (218, 590), (218, 591), (218, 592), (218, 593), (218, 594), (218, 595), (219, 589), (219, 590), (219, 591), (219, 592), (219, 593), (219, 594), (220, 590), (220, 591), (220, 592), (220, 593)]\n",
    "for i, j in comp:\n",
    "    test_mask_im[i,j]=compi+1\n",
    "\n",
    "plt.imshow(test_mask_im)"
   ]
  },
  {
   "cell_type": "code",
   "execution_count": null,
   "metadata": {},
   "outputs": [],
   "source": [
    "labels.shape"
   ]
  },
  {
   "cell_type": "code",
   "execution_count": null,
   "metadata": {},
   "outputs": [],
   "source": [
    "mask_path = '/scratch0/ilya/locDoc/data/hyperspec/KSC_strictsinglesite_trainval_s50_9_307364.mat'\n",
    "train_mask = hsi_data.multiversion_matfile_get_field(mask_path, 'train_mask')\n",
    "train_mask_im = train_mask.reshape(hsi_data.dset_dims['KSC_corrected.mat'][:2][::-1]).T"
   ]
  },
  {
   "cell_type": "code",
   "execution_count": null,
   "metadata": {},
   "outputs": [],
   "source": [
    "mask_path = '/scratch0/ilya/locDoc/data/hyperspec/PaviaU_strictsinglesite_trainval_s90_9_484519.mat'\n",
    "# mask_path = '/cfarhomes/ilyak/ilyakavalerov@gmail.com/ramawks69/pyfst/masks/PaviaU_distributed_trainval_p0200_0_112681.mat'\n",
    "train_mask = hsi_data.multiversion_matfile_get_field(mask_path, 'train_mask')\n",
    "train_mask_im = train_mask.reshape(hsi_data.dset_dims['PaviaU.mat'][:2][::-1]).T"
   ]
  },
  {
   "cell_type": "code",
   "execution_count": null,
   "metadata": {},
   "outputs": [],
   "source": [
    "mask_path = '/cfarhomes/ilyak/ilyakavalerov@gmail.com/ramawks69/pyfst/masks/IP_distributed_trainval_s10_0_492018.mat'\n",
    "train_mask = hsi_data.multiversion_matfile_get_field(mask_path, 'train_mask')\n",
    "train_mask_im = train_mask.reshape(hsi_data.dset_dims['Indian_pines_corrected.mat'][:2][::-1]).T"
   ]
  },
  {
   "cell_type": "code",
   "execution_count": null,
   "metadata": {},
   "outputs": [],
   "source": [
    "mask_path = '/cfarhomes/ilyak/ilyakavalerov@gmail.com/ramawks69/pyfst/masks/Botswana_strictsinglesite_trainval_s05_7_647323.mat'\n",
    "train_mask = hsi_data.multiversion_matfile_get_field(mask_path, 'train_mask')\n",
    "train_mask_im = train_mask.reshape(hsi_data.dset_dims['Botswana.mat'][:2][::-1]).T"
   ]
  },
  {
   "cell_type": "code",
   "execution_count": null,
   "metadata": {},
   "outputs": [],
   "source": [
    "pav_im = (labels * train_mask_im).astype(int)-1"
   ]
  },
  {
   "cell_type": "code",
   "execution_count": null,
   "metadata": {},
   "outputs": [],
   "source": [
    "fig = plt.figure()\n",
    "ax = plt.Axes(fig, [0., 0., 1., 1.])\n",
    "ax.set_axis_off()\n",
    "fig.add_axes(ax)\n",
    "# ax.imshow(apply_colormap(pav_im, pavia_class_map))\n",
    "# ax.imshow(apply_colormap(img_pred-1, pavia_class_map))\n",
    "ax.imshow(apply_colormap(labels.astype(int)-1, pavia_class_map))"
   ]
  },
  {
   "cell_type": "code",
   "execution_count": null,
   "metadata": {},
   "outputs": [],
   "source": [
    "plt.close('all')"
   ]
  },
  {
   "cell_type": "code",
   "execution_count": 10,
   "metadata": {},
   "outputs": [],
   "source": [
    "from sklearn.neighbors import KNeighborsClassifier\n",
    "import os"
   ]
  },
  {
   "cell_type": "code",
   "execution_count": 36,
   "metadata": {},
   "outputs": [],
   "source": [
    "def KNN1_acc(mask_path, dataset_fname, pred_whole_image=False):\n",
    "    train_mask = hsi_data.multiversion_matfile_get_field(mask_path, 'train_mask')\n",
    "    train_mask_im = train_mask.reshape(hsi_data.dset_dims[dataset_fname][:2][::-1]).T\n",
    "    \n",
    "    trainX = []\n",
    "    trainY = []\n",
    "    testX = []\n",
    "    testY = []\n",
    "    wholeImg = []\n",
    "    for i in range(labels.shape[0]):\n",
    "        for j in range(labels.shape[1]):\n",
    "            if train_mask_im[i,j]:\n",
    "                trainX.append([i,j])\n",
    "                trainY.append(labels[i,j])\n",
    "            elif int(labels[i,j]):\n",
    "                testX.append([i,j])\n",
    "                testY.append(labels[i,j])\n",
    "            wholeImg.append([i,j])\n",
    "    \n",
    "    classifier = KNeighborsClassifier(n_neighbors=1, metric='euclidean')\n",
    "    classifier.fit(trainX, trainY)\n",
    "    \n",
    "    y_pred_ = classifier.predict(testX)\n",
    "    acc = (np.array(testY) == np.array(y_pred_)).sum() / float(len(testY))\n",
    "    \n",
    "    if pred_whole_image:\n",
    "        return acc, classifier.predict(wholeImg)\n",
    "    else:\n",
    "        return (acc, y_pred_)\n"
   ]
  },
  {
   "cell_type": "code",
   "execution_count": 14,
   "metadata": {},
   "outputs": [],
   "source": [
    "dataset = 'IP'\n",
    "dataset_fname = hsi_data.dset_filenames_dict[dataset][0]"
   ]
  },
  {
   "cell_type": "code",
   "execution_count": 15,
   "metadata": {},
   "outputs": [],
   "source": [
    "trainimgname, trainlabelname = hsi_data.dset_filenames_dict[dataset]\n",
    "trainimgfield, trainlabelfield = hsi_data.dset_fieldnames_dict[dataset]\n",
    "labels = hsi_data.load_labels(trainlabelname, trainlabelfield)"
   ]
  },
  {
   "cell_type": "code",
   "execution_count": 16,
   "metadata": {},
   "outputs": [],
   "source": [
    "masks = ['IP_distributed_trainval_s05_0_068302.mat',\n",
    "'IP_distributed_trainval_s05_1_522314.mat',\n",
    "'IP_distributed_trainval_s05_2_844964.mat',\n",
    "'IP_distributed_trainval_s05_3_857674.mat',\n",
    "'IP_distributed_trainval_s05_4_387762.mat',\n",
    "'IP_distributed_trainval_s05_5_659002.mat',\n",
    "'IP_distributed_trainval_s05_6_551080.mat',\n",
    "'IP_distributed_trainval_s05_7_529916.mat',\n",
    "'IP_distributed_trainval_s05_8_101290.mat',\n",
    "'IP_distributed_trainval_s05_9_746592.mat']\n",
    "masks = [os.path.join('/cfarhomes/ilyak/ilyakavalerov@gmail.com/ramawks69/pyfst_tgrs/pyfst/masks/', m) for m in masks]"
   ]
  },
  {
   "cell_type": "code",
   "execution_count": 37,
   "metadata": {},
   "outputs": [
    {
     "name": "stdout",
     "output_type": "stream",
     "text": [
      "0.6847 +/- 0.0134\n"
     ]
    }
   ],
   "source": [
    "accs = []\n",
    "for mask_path in masks:\n",
    "    acc, ypred = KNN1_acc(mask_path, dataset_fname)\n",
    "    accs.append(acc)\n",
    "accs = np.array(accs)\n",
    "print('%.4f +/- %.4f' % (accs.mean(), accs.std()))"
   ]
  },
  {
   "cell_type": "code",
   "execution_count": 31,
   "metadata": {},
   "outputs": [
    {
     "data": {
      "text/plain": [
       "{'Botswana.mat': (1476, 256, 145),\n",
       " 'Indian_pines_corrected.mat': (145, 145, 200),\n",
       " 'KSC_corrected.mat': (512, 614, 176),\n",
       " 'PaviaU.mat': (610, 340, 103)}"
      ]
     },
     "execution_count": 31,
     "metadata": {},
     "output_type": "execute_result"
    }
   ],
   "source": [
    "hsi_data.dset_dims"
   ]
  },
  {
   "cell_type": "code",
   "execution_count": 38,
   "metadata": {},
   "outputs": [],
   "source": [
    "_, y_pred = KNN1_acc(mask_path, dataset_fname, True)"
   ]
  },
  {
   "cell_type": "code",
   "execution_count": 39,
   "metadata": {},
   "outputs": [],
   "source": [
    "img_pred = np.array(y_pred).reshape(hsi_data.dset_dims['PaviaU.mat'][:2])"
   ]
  },
  {
   "cell_type": "code",
   "execution_count": 42,
   "metadata": {},
   "outputs": [
    {
     "data": {
      "application/vnd.jupyter.widget-view+json": {
       "model_id": "49c714059da44a7caa1fbb2008184dc0",
       "version_major": 2,
       "version_minor": 0
      },
      "text/html": [
       "<p>Failed to display Jupyter Widget of type <code>FigureCanvasNbAgg</code>.</p>\n",
       "<p>\n",
       "  If you're reading this message in the Jupyter Notebook or JupyterLab Notebook, it may mean\n",
       "  that the widgets JavaScript is still loading. If this message persists, it\n",
       "  likely means that the widgets JavaScript library is either not installed or\n",
       "  not enabled. See the <a href=\"https://ipywidgets.readthedocs.io/en/stable/user_install.html\">Jupyter\n",
       "  Widgets Documentation</a> for setup instructions.\n",
       "</p>\n",
       "<p>\n",
       "  If you're reading this message in another frontend (for example, a static\n",
       "  rendering on GitHub or <a href=\"https://nbviewer.jupyter.org/\">NBViewer</a>),\n",
       "  it may mean that your frontend doesn't currently support widgets.\n",
       "</p>\n"
      ],
      "text/plain": [
       "FigureCanvasNbAgg()"
      ]
     },
     "metadata": {},
     "output_type": "display_data"
    },
    {
     "data": {
      "text/plain": [
       "<matplotlib.image.AxesImage at 0x7f78e149aad0>"
      ]
     },
     "execution_count": 42,
     "metadata": {},
     "output_type": "execute_result"
    }
   ],
   "source": [
    "fig = plt.figure()\n",
    "ax = plt.Axes(fig, [0., 0., 1., 1.])\n",
    "ax.set_axis_off()\n",
    "fig.add_axes(ax)\n",
    "# ax.imshow(apply_colormap(pav_im, pavia_class_map))\n",
    "# ax.imshow(apply_colormap(img_pred-1, pavia_class_map))\n",
    "#ax.imshow(apply_colormap(img_pred.astype(int)-1, pavia_class_map))\n",
    "#plt.imshow(img_pred)"
   ]
  },
  {
   "cell_type": "code",
   "execution_count": 43,
   "metadata": {},
   "outputs": [],
   "source": [
    "import imageio"
   ]
  },
  {
   "cell_type": "code",
   "execution_count": null,
   "metadata": {},
   "outputs": [],
   "source": []
  }
 ],
 "metadata": {
  "kernelspec": {
   "display_name": "Python 3",
   "language": "python",
   "name": "python3"
  },
  "language_info": {
   "codemirror_mode": {
    "name": "ipython",
    "version": 3
   },
   "file_extension": ".py",
   "mimetype": "text/x-python",
   "name": "python",
   "nbconvert_exporter": "python",
   "pygments_lexer": "ipython3",
   "version": "3.6.9"
  }
 },
 "nbformat": 4,
 "nbformat_minor": 4
}
